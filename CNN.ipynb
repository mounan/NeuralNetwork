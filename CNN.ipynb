{
 "cells": [
  {
   "cell_type": "markdown",
   "metadata": {},
   "source": [
    "# Convolutional neural network (without libraries)"
   ]
  },
  {
   "cell_type": "code",
   "execution_count": 384,
   "metadata": {},
   "outputs": [],
   "source": [
    "import numpy as np"
   ]
  },
  {
   "cell_type": "markdown",
   "metadata": {},
   "source": [
    "## Initialization\n",
    ">input : [1, -1, 2]  \n",
    ">output: [1, 0]  \n",
    ">alpha of Relu function: 2  \n",
    ">mask_1: [4, 4]  \n",
    ">mask_2: [2, 2]  \n",
    ">study rate: 0.03"
   ]
  },
  {
   "cell_type": "code",
   "execution_count": 385,
   "metadata": {},
   "outputs": [],
   "source": [
    "x1 = 1\n",
    "x2 = -1\n",
    "x3 = 2\n",
    "x = np.array([[x1,x2],[x2,x3]])\n",
    "b = [1, 0]\n",
    "# 学習率\n",
    "a = 0.03\n",
    "alpha = 2\n",
    "thre1 = np.zeros(2) + 1 \n",
    "thre2 = np.zeros(2) + 1 \n",
    "# mask\n",
    "w1 = np.zeros(2) + 4\n",
    "w2 = np.zeros(2) + 2"
   ]
  },
  {
   "cell_type": "markdown",
   "metadata": {},
   "source": [
    "## Relu function"
   ]
  },
  {
   "cell_type": "code",
   "execution_count": 386,
   "metadata": {},
   "outputs": [],
   "source": [
    "def relu(alpha, x):\n",
    "    if x >= 0:\n",
    "        return alpha * x\n",
    "    return 0"
   ]
  },
  {
   "cell_type": "markdown",
   "metadata": {},
   "source": [
    "## Mean Squared Error function (MSE)"
   ]
  },
  {
   "cell_type": "code",
   "execution_count": 387,
   "metadata": {},
   "outputs": [],
   "source": [
    "# 二乗誤差\n",
    "def E(y, b):\n",
    "    e = 0\n",
    "    for i in range(len(y)):\n",
    "        e += (y[i]-b[i])**2\n",
    "    return e"
   ]
  },
  {
   "cell_type": "markdown",
   "metadata": {},
   "source": [
    "## Learning loop"
   ]
  },
  {
   "cell_type": "code",
   "execution_count": 388,
   "metadata": {},
   "outputs": [
    {
     "name": "stdout",
     "output_type": "stream",
     "text": [
      "w1 =  [3.83333904 2.49999721]\n",
      "w2 =  [1.66667351 1.00000995]\n",
      "----------------------\n",
      "E =  4.739842521512458e-09\n",
      "loop =  41\n",
      "y1 =  1.000034262906959\n",
      "y2 =  5.971512143698732e-05\n"
     ]
    }
   ],
   "source": [
    "for k in range(1000):\n",
    "    s1 = x @ w1 + thre1\n",
    "    s2 = x @ w2 + thre2\n",
    "\n",
    "    for i in range(len(s1)):\n",
    "        z1[i] = relu(alpha, s1[i])\n",
    "        z2[i] = relu(alpha, s2[i])\n",
    "\n",
    "    y1 = max(z1)\n",
    "    y2 = max(z2)\n",
    "\n",
    "    y = [y1, y2]\n",
    "    e = E(y, b)\n",
    "    if e < 0.00000001:\n",
    "        print(\"w1 = \",w1)\n",
    "        print(\"w2 = \", w2)\n",
    "        \n",
    "        print(\"----------------------\")\n",
    "        print(\"E = \",e)\n",
    "        print(\"loop = \", k+1)\n",
    "        print(\"y1 = \",y1)\n",
    "        print(\"y2 = \",y2)\n",
    "        \n",
    "        break\n",
    "    # y1\n",
    "    derivative_E_y1 = 2 * (y1-b[0])\n",
    "    if (y1 == z1[0]):\n",
    "        derivative_y1_z11 = 1\n",
    "        derivative_y1_z12 = 0\n",
    "    else:\n",
    "        derivative_y1_z11 = 0\n",
    "        derivative_y1_z12 = 1\n",
    "\n",
    "    derivative_z11_s11 = alpha if (s1[0] >= 0) else 0\n",
    "    derivative_z12_s12 = alpha if (s1[1] >= 0) else 0\n",
    "    \n",
    "    derivative_E_w11 = derivative_E_y1 * derivative_y1_z11 * derivative_z11_s11 * x1 + derivative_E_y1 * derivative_y1_z12 * derivative_z12_s12 * x2 \n",
    "    w1[0] = w1[0]-a * derivative_E_w11\n",
    "\n",
    "    derivative_E_w12 = derivative_E_y1 * derivative_y1_z11 * derivative_z11_s11 * x2 + derivative_E_y1 * derivative_y1_z12 * derivative_z12_s12 * x3 \n",
    "    w1[1] = w1[1]-a * derivative_E_w12 \n",
    "\n",
    "    derivative_E_thres11 = derivative_E_y1 * derivative_y1_z11 * derivative_z11_s11\n",
    "    thre1[0] = thre1[0]-a * derivative_E_thres11\n",
    "    \n",
    "    derivative_E_thres12 = derivative_E_y1 * derivative_y1_z12 * derivative_z12_s12\n",
    "    thre1[1] = thre1[1]-a * derivative_E_thres12\n",
    "    \n",
    "    # y2\n",
    "    derivative_E_y2 = 2 * (y2-b[1])\n",
    "    if (y2 == z2[0]):\n",
    "        derivative_y2_z21 = 1\n",
    "        derivative_y2_z22 = 0\n",
    "    else:\n",
    "        derivative_y2_z21 = 0\n",
    "        derivative_y2_z22 = 1\n",
    "\n",
    "    derivative_z21_s21 = alpha if (s2[0] >= 0) else 0\n",
    "    derivative_z22_s22 = alpha if (s2[1] >= 0) else 0\n",
    "\n",
    "    derivative_E_w21 = derivative_E_y2 * derivative_y2_z21 * derivative_z21_s21 * x1 + derivative_E_y2 * derivative_y2_z22 * derivative_z22_s22 * x2 \n",
    "    w2[0] = w2[0]-a * derivative_E_w21\n",
    "\n",
    "    derivative_E_w22 = derivative_E_y2 * derivative_y2_z21 * derivative_z21_s21 * x2 + derivative_E_y2 * derivative_y2_z22 * derivative_z22_s22 * x3 \n",
    "    w2[1] = w2[1]-a * derivative_E_w22 \n",
    "    \n",
    "    derivative_E_thres21 = derivative_E_y2 * derivative_y2_z21 * derivative_z21_s21\n",
    "    thre2[0] = thre2[0]-a * derivative_E_thres21\n",
    "    \n",
    "    derivative_E_thres22 = derivative_E_y2 * derivative_y2_z22 * derivative_z22_s22\n",
    "    thre2[1] = thre2[1]-a * derivative_E_thres22\n"
   ]
  },
  {
   "cell_type": "markdown",
   "metadata": {},
   "source": [
    "## Result"
   ]
  },
  {
   "cell_type": "code",
   "execution_count": 389,
   "metadata": {},
   "outputs": [
    {
     "name": "stdout",
     "output_type": "stream",
     "text": [
      "mask1:  [3.83333904 2.49999721] \n",
      "mask2:  [1.66667351 1.00000995]\n"
     ]
    }
   ],
   "source": [
    "print(\"mask1: \",w1,\"\\nmask2: \",w2)"
   ]
  }
 ],
 "metadata": {
  "kernelspec": {
   "display_name": "Python 3",
   "language": "python",
   "name": "python3"
  },
  "language_info": {
   "codemirror_mode": {
    "name": "ipython",
    "version": 3
   },
   "file_extension": ".py",
   "mimetype": "text/x-python",
   "name": "python",
   "nbconvert_exporter": "python",
   "pygments_lexer": "ipython3",
   "version": "3.7.3"
  }
 },
 "nbformat": 4,
 "nbformat_minor": 2
}
